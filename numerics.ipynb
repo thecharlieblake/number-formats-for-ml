{
 "cells": [
  {
   "cell_type": "code",
   "execution_count": 2,
   "metadata": {},
   "outputs": [],
   "source": [
    "import numpy as np\n",
    "from scipy.stats import foldnorm"
   ]
  },
  {
   "cell_type": "code",
   "execution_count": 3,
   "metadata": {},
   "outputs": [
    {
     "name": "stdout",
     "output_type": "stream",
     "text": [
      "[ {x: -50.0, y: 1.340842422467887e-16}, {x: -49.75, y: 1.5945393488962982e-16}, {x: -49.5, y: 1.8962375388592826e-16}, {x: -49.25, y: 2.255019172946706e-16}, {x: -49.0, y: 2.681684844935774e-16}, {x: -48.75, y: 3.1890786977925964e-16}, {x: -48.5, y: 3.792475077718565e-16}, {x: -48.25, y: 4.510038345893412e-16}, {x: -48.0, y: 5.363369689871548e-16}, {x: -47.75, y: 6.378157395585193e-16}, {x: -47.5, y: 7.58495015543713e-16}, {x: -47.25, y: 9.020076691786825e-16}, {x: -47.0, y: 1.0726739379743095e-15}, {x: -46.75, y: 1.2756314791170386e-15}, {x: -46.5, y: 1.516990031087426e-15}, {x: -46.25, y: 1.804015338357365e-15}, {x: -46.0, y: 2.145347875948619e-15}, {x: -45.75, y: 2.551262958234077e-15}, {x: -45.5, y: 3.033980062174852e-15}, {x: -45.25, y: 3.60803067671473e-15}, {x: -45.0, y: 4.290695751897238e-15}, {x: -44.75, y: 5.102525916468154e-15}, {x: -44.5, y: 6.067960124349704e-15}, {x: -44.25, y: 7.21606135342946e-15}, {x: -44.0, y: 8.581391503794476e-15}, {x: -43.75, y: 1.0205051832936308e-14}, {x: -43.5, y: 1.2135920248699408e-14}, {x: -43.25, y: 1.443212270685892e-14}, {x: -43.0, y: 1.7162783007588953e-14}, {x: -42.75, y: 2.0410103665872617e-14}, {x: -42.5, y: 2.4271840497398817e-14}, {x: -42.25, y: 2.886424541371784e-14}, {x: -42.0, y: 3.4325566015177905e-14}, {x: -41.75, y: 4.0820207331745234e-14}, {x: -41.5, y: 4.8543680994797633e-14}, {x: -41.25, y: 5.772849082743568e-14}, {x: -41.0, y: 6.865113203035581e-14}, {x: -40.75, y: 8.164041466349047e-14}, {x: -40.5, y: 9.708736198959527e-14}, {x: -40.25, y: 1.1545698165487136e-13}, {x: -40.0, y: 1.3730226406071162e-13}, {x: -39.75, y: 1.6328082932698093e-13}, {x: -39.5, y: 1.9417472397919053e-13}, {x: -39.25, y: 2.309139633097427e-13}, {x: -39.0, y: 2.7460452812142324e-13}, {x: -38.75, y: 3.2656165865396187e-13}, {x: -38.5, y: 3.8834944795838107e-13}, {x: -38.25, y: 4.618279266194854e-13}, {x: -38.0, y: 5.492090562428465e-13}, {x: -37.75, y: 6.531233173079237e-13}, {x: -37.5, y: 7.766988959167621e-13}, {x: -37.25, y: 9.236558532389708e-13}, {x: -37.0, y: 1.098418112485693e-12}, {x: -36.75, y: 1.3062466346158475e-12}, {x: -36.5, y: 1.5533977918335243e-12}, {x: -36.25, y: 1.8473117064779417e-12}, {x: -36.0, y: 2.196836224971386e-12}, {x: -35.75, y: 2.612493269231695e-12}, {x: -35.5, y: 3.1067955836670485e-12}, {x: -35.25, y: 3.694623412955883e-12}, {x: -35.0, y: 4.393672449942772e-12}, {x: -34.75, y: 5.22498653846339e-12}, {x: -34.5, y: 6.213591167334097e-12}, {x: -34.25, y: 7.389246825911767e-12}, {x: -34.0, y: 8.787344899885544e-12}, {x: -33.75, y: 1.044997307692678e-11}, {x: -33.5, y: 1.2427182334668194e-11}, {x: -33.25, y: 1.4778493651823533e-11}, {x: -33.0, y: 1.7574689799771087e-11}, {x: -32.75, y: 2.089994615385356e-11}, {x: -32.5, y: 2.4854364669336388e-11}, {x: -32.25, y: 2.955698730364707e-11}, {x: -32.0, y: 3.5149379599542175e-11}, {x: -31.75, y: 4.179989230770712e-11}, {x: -31.5, y: 4.9708729338672777e-11}, {x: -31.25, y: 5.911397460729413e-11}, {x: -31.0, y: 7.029875919908435e-11}, {x: -30.75, y: 8.359978461541424e-11}, {x: -30.5, y: 9.941745867734555e-11}, {x: -30.25, y: 1.1822794921458827e-10}, {x: -30.0, y: 1.405975183981687e-10}, {x: -29.75, y: 1.6719956923082848e-10}, {x: -29.5, y: 1.988349173546911e-10}, {x: -29.25, y: 2.3645589842917654e-10}, {x: -29.0, y: 2.811950367963374e-10}, {x: -28.75, y: 3.3439913846165695e-10}, {x: -28.5, y: 3.976698347093822e-10}, {x: -28.25, y: 4.729117968583531e-10}, {x: -28.0, y: 5.623900735926748e-10}, {x: -27.75, y: 6.687982769233139e-10}, {x: -27.5, y: 7.953396694187644e-10}, {x: -27.25, y: 9.458235937167061e-10}, {x: -27.0, y: 1.1247801471853496e-09}, {x: -26.75, y: 1.3375965538466278e-09}, {x: -26.5, y: 1.5906793388375288e-09}, {x: -26.25, y: 1.8916471874334123e-09}, {x: -26.0, y: 2.249560294370699e-09}, {x: -25.75, y: 2.6751931076932523e-09}, {x: -25.5, y: 3.1813586776750577e-09}, {x: -25.25, y: 3.7832943748668246e-09}, {x: -25.0, y: 4.499120588741398e-09}, {x: -24.75, y: 5.350386215386501e-09}, {x: -24.5, y: 6.362717355350109e-09}, {x: -24.25, y: 7.566588749733636e-09}, {x: -24.0, y: 8.998241177482784e-09}, {x: -23.75, y: 1.070077243077299e-08}, {x: -23.5, y: 1.2725434710700178e-08}, {x: -23.25, y: 1.5133177499467206e-08}, {x: -23.0, y: 1.799648235496546e-08}, {x: -22.75, y: 2.1401544861545767e-08}, {x: -22.5, y: 2.5450869421399985e-08}, {x: -22.25, y: 3.026635499893391e-08}, {x: -22.0, y: 3.599296470992997e-08}, {x: -21.75, y: 4.2803089723090026e-08}, {x: -21.5, y: 5.0901738842797376e-08}, {x: -21.25, y: 6.053270999786332e-08}, {x: -21.0, y: 7.198592941985269e-08}, {x: -20.75, y: 8.560617944616761e-08}, {x: -20.5, y: 1.01803477685574e-07}, {x: -20.25, y: 1.210654199956917e-07}, {x: -20.0, y: 1.4397185883964619e-07}, {x: -19.75, y: 1.712123588922359e-07}, {x: -19.5, y: 2.0360695537098135e-07}, {x: -19.25, y: 2.421308399911026e-07}, {x: -19.0, y: 2.879437176788206e-07}, {x: -18.75, y: 3.4242471778367835e-07}, {x: -18.5, y: 4.072139107406282e-07}, {x: -18.25, y: 4.842616799799606e-07}, {x: -18.0, y: 5.758874353538672e-07}, {x: -17.75, y: 6.848494355610082e-07}, {x: -17.5, y: 8.144278214705787e-07}, {x: -17.25, y: 9.685233599419665e-07}, {x: -17.0, y: 1.151774870677536e-06}, {x: -16.75, y: 1.3696988710712317e-06}, {x: -16.5, y: 1.628855642855746e-06}, {x: -16.25, y: 1.9370467197402865e-06}, {x: -16.0, y: 2.3035497411134914e-06}, {x: -15.75, y: 2.7393977417361705e-06}, {x: -15.5, y: 3.2577112850282006e-06}, {x: -15.25, y: 3.874093438331417e-06}, {x: -15.0, y: 4.607099480294338e-06}, {x: -14.75, y: 5.4787954802220316e-06}, {x: -14.5, y: 6.51542256459003e-06}, {x: -14.25, y: 7.748186867469565e-06}, {x: -14.0, y: 9.214198945127493e-06}, {x: -13.75, y: 1.0957590934441554e-05}, {x: -13.5, y: 1.3030845085449267e-05}, {x: -13.25, y: 1.5496373661392926e-05}, {x: -13.0, y: 1.84283977665655e-05}, {x: -12.75, y: 2.1915181660863092e-05}, {x: -12.5, y: 2.6061689821051944e-05}, {x: -12.25, y: 3.09927467344163e-05}, {x: -12.0, y: 3.685679454361546e-05}, {x: -11.75, y: 4.383036165756592e-05}, {x: -11.5, y: 5.2123376843331065e-05}, {x: -11.25, y: 6.198548876187692e-05}, {x: -11.0, y: 7.371358117110651e-05}, {x: -10.75, y: 8.766071000185113e-05}, {x: -10.5, y: 0.00010424673129648333}, {x: -10.25, y: 0.00012397093986811416}, {x: -10.0, y: 0.00014742709901323543}, {x: -9.75, y: 0.00017532131349749748}, {x: -9.5, y: 0.00020849328347163302}, {x: -9.25, y: 0.00024794157849134424}, {x: -9.0, y: 0.0002948536913951979}, {x: -8.75, y: 0.0003506417749466642}, {x: -8.5, y: 0.00041698513397570545}, {x: -8.25, y: 0.0004958807470310045}, {x: -8.0, y: 0.0005897033297578005}, {x: -7.75, y: 0.0007012767335484978}, {x: -7.5, y: 0.0008339588043103875}, {x: -7.25, y: 0.0009917422146851103}, {x: -7.0, y: 0.0011793742358174788}, {x: -6.75, y: 0.0014024989376765495}, {x: -6.5, y: 0.0016678259026753472}, {x: -6.25, y: 0.0019833302019248295}, {x: -6.0, y: 0.0023584891000537813}, {x: -5.75, y: 0.0028045616828088586}, {x: -5.5, y: 0.0033349182596254523}, {x: -5.25, y: 0.003965426826486793}, {x: -5.0, y: 0.004714903803466581}, {x: -4.75, y: 0.005605635195101995}, {x: -4.5, y: 0.006663971410992377}, {x: -4.25, y: 0.007920992780179235}, {x: -4.0, y: 0.009413230851614732}, {x: -3.75, y: 0.011183408812277904}, {x: -3.5, y: 0.013281126033835966}, {x: -3.25, y: 0.015763345904002732}, {x: -3.0, y: 0.018694435184109598}, {x: -2.75, y: 0.022145319956998463}, {x: -2.5, y: 0.026191027432222014}, {x: -2.25, y: 0.030905419132291584}, {x: -2.0, y: 0.03635122487377773}, {x: -1.75, y: 0.04256251392861174}, {x: -1.5, y: 0.04951555233897614}, {x: -1.25, y: 0.05708298004081308}, {x: -1.0, y: 0.06496657592502214}, {x: -0.75, y: 0.07260837933999825}, {x: -0.5, y: 0.07909415535345521}, {x: -0.25, y: 0.08309545897058412}, {x: 0.0, y: 0.08295233247311673}, {x: 0.25, y: 0.0770589683395122}, {x: 0.5, y: 0.06469018758700928}, {x: 0.75, y: 0.047108755566917515}, {x: 1.0, y: 0.028112982508810114}, {x: 1.25, y: 0.012709546406501016}, {x: 1.5, y: 0.003908365424252547}, {x: 1.75, y: 0.0007060270731285012}, {x: 2.0, y: 6.137590223842526e-05}, {x: 2.25, y: 1.9511641698999327e-06}, {x: 2.5, y: 1.5399958641637568e-08}, {x: 2.75, y: 1.7298051879777177e-11}, {x: 3.0, y: 1.2212453270876722e-15}, {x: 3.25, y: 0.0}, {x: 3.5, y: 0.0}, {x: 3.75, y: 0.0}, {x: 4.0, y: 0.0}, {x: 4.25, y: 0.0}, {x: 4.5, y: 0.0}, {x: 4.75, y: 0.0}, {x: 5.0, y: 0.0}, {x: 5.25, y: 0.0}, {x: 5.5, y: 0.0}, {x: 5.75, y: 0.0}, {x: 6.0, y: 0.0}, {x: 6.25, y: 0.0}, {x: 6.5, y: 0.0}, {x: 6.75, y: 0.0}, {x: 7.0, y: 0.0}, {x: 7.25, y: 0.0}, {x: 7.5, y: 0.0}, {x: 7.75, y: 0.0}, {x: 8.0, y: 0.0}, {x: 8.25, y: 0.0}, {x: 8.5, y: 0.0}, {x: 8.75, y: 0.0}, {x: 9.0, y: 0.0}, {x: 9.25, y: 0.0}, {x: 9.5, y: 0.0}, {x: 9.75, y: 0.0}, {x: 10.0, y: 0.0} ]\n"
     ]
    }
   ],
   "source": [
    "start = -50\n",
    "end = 10\n",
    "step = 1 / 4  # 2^(1/4)\n",
    "\n",
    "boundary_exps = np.arange(start, end + step, step)\n",
    "x = foldnorm.cdf(2**boundary_exps, c=0)\n",
    "y = np.append(x[1:], 1.0) - x\n",
    "print(\"[\", \", \".join([f\"{{x: {b}, y: {v}}}\" for b, v in zip(boundary_exps, y)]), \"]\")"
   ]
  },
  {
   "cell_type": "code",
   "execution_count": 4,
   "metadata": {},
   "outputs": [],
   "source": [
    "from ml_dtypes import (\n",
    "    bfloat16,\n",
    "    float8_e5m2,\n",
    "    float8_e4m3fn,\n",
    "    float8_e4m3,\n",
    "    float4_e2m1fn,\n",
    "    float6_e3m2fn,\n",
    "    float6_e2m3fn,\n",
    ")\n",
    "from numpy import float16"
   ]
  },
  {
   "cell_type": "code",
   "execution_count": 423,
   "metadata": {},
   "outputs": [
    {
     "name": "stderr",
     "output_type": "stream",
     "text": [
      "/var/folders/l1/50_0wv7s3c9cm7vn8f1b_dbw0000gq/T/ipykernel_8081/2166630582.py:17: RuntimeWarning: divide by zero encountered in log2\n",
      "  log_a = np.log2(np.abs(a))\n"
     ]
    },
    {
     "data": {
      "text/plain": [
       "(array([ 8,  0,  0,  0,  8,  0,  8,  0,  8,  8,  8,  8, 16, 16, 16, 16, 16,\n",
       "        16, 16, 16, 16, 16, 16, 16]),\n",
       " array([-3.  , -2.75, -2.5 , -2.25, -2.  , -1.75, -1.5 , -1.25, -1.  ,\n",
       "        -0.75, -0.5 , -0.25,  0.  ,  0.25,  0.5 ,  0.75,  1.  ,  1.25,\n",
       "         1.5 ,  1.75,  2.  ,  2.25,  2.5 ,  2.75,  3.  ]),\n",
       " 24,\n",
       " 25,\n",
       " 248)"
      ]
     },
     "execution_count": 423,
     "metadata": {},
     "output_type": "execute_result"
    }
   ],
   "source": [
    "def all_values(dtype, sort=True, filter_finite=True):\n",
    "    bit_width = np.dtype(dtype).itemsize * 8\n",
    "    uint_dtype = {8: np.uint8, 16: np.uint16, 32: np.uint32, 64: np.uint64}[bit_width]\n",
    "    uints = np.arange(0, 2**bit_width, dtype=uint_dtype)\n",
    "    values = uints.view(dtype)\n",
    "    if filter_finite:\n",
    "        values = values[np.isfinite(values)]\n",
    "    if sort:\n",
    "        values = np.sort(values)\n",
    "    return values\n",
    "\n",
    "\n",
    "all_values(float8_e5m2), all_values(bfloat16)\n",
    "\n",
    "\n",
    "def log_hist(a, log_bin_width):\n",
    "    log_a = np.log2(np.abs(a))\n",
    "    log_a = log_a[np.isfinite(log_a)]\n",
    "    bin_edges = np.arange(\n",
    "        np.floor(log_a.min()), np.ceil(log_a.max() + log_bin_width), log_bin_width\n",
    "    )[:-3]\n",
    "    return np.histogram(log_a, bin_edges)\n",
    "\n",
    "\n",
    "def dtype_log_hist(dtype, log_bin_width=1 / 4):\n",
    "    return log_hist(\n",
    "        all_values(dtype, sort=False).astype(np.float64), log_bin_width=log_bin_width\n",
    "    )\n",
    "\n",
    "\n",
    "np.set_printoptions(threshold=float(\"inf\"))\n",
    "# c, b = dtype_log_hist(float8_e4m3)\n",
    "c, b = dtype_log_hist(float6_e2m3fn)\n",
    "c, b, len(c), len(b), sum(c)"
   ]
  },
  {
   "cell_type": "code",
   "execution_count": 5,
   "metadata": {},
   "outputs": [
    {
     "data": {
      "text/plain": [
       "(array([  0,   0,   0,   0,   0,   0,   2,   2,   2,   2,   2,   2,   4,\n",
       "          4,   4,   6,   6,   8,   8,  10,  12,  14,  18,  20,  24,  28,\n",
       "         34,  40,  48,  58,  68,  82,  96, 116, 138, 162, 194, 230, 274,\n",
       "        326, 388, 460, 548, 652, 388, 460, 548, 652, 388, 460, 548, 652,\n",
       "        388, 460, 548, 652, 388, 460, 548, 652, 388, 460, 548, 652, 388,\n",
       "        460, 548, 652, 388, 460, 548, 652, 388, 460, 548, 652, 388, 460,\n",
       "        548, 652, 388, 460, 548, 652, 388, 460, 548, 652, 388, 460, 548,\n",
       "        652, 388, 460, 548, 652, 388, 460, 548, 652, 388, 460, 548, 652,\n",
       "        388, 460, 548, 652, 388, 460, 548, 652, 388, 460, 548, 652, 388,\n",
       "        460, 548, 652, 388, 460, 548, 652, 388, 460, 548, 652, 388, 460,\n",
       "        548, 652, 388, 460, 548, 652, 388, 460, 548, 652, 388, 460, 548,\n",
       "        652, 388, 460, 548, 652, 388, 460, 548, 652, 388, 460, 548, 652,\n",
       "        388, 460, 548, 652, 388, 460, 548, 650]),\n",
       " array([-24.  , -23.75, -23.5 , -23.25, -23.  , -22.75, -22.5 , -22.25,\n",
       "        -22.  , -21.75, -21.5 , -21.25, -21.  , -20.75, -20.5 , -20.25,\n",
       "        -20.  , -19.75, -19.5 , -19.25, -19.  , -18.75, -18.5 , -18.25,\n",
       "        -18.  , -17.75, -17.5 , -17.25, -17.  , -16.75, -16.5 , -16.25,\n",
       "        -16.  , -15.75, -15.5 , -15.25, -15.  , -14.75, -14.5 , -14.25,\n",
       "        -14.  , -13.75, -13.5 , -13.25, -13.  , -12.75, -12.5 , -12.25,\n",
       "        -12.  , -11.75, -11.5 , -11.25, -11.  , -10.75, -10.5 , -10.25,\n",
       "        -10.  ,  -9.75,  -9.5 ,  -9.25,  -9.  ,  -8.75,  -8.5 ,  -8.25,\n",
       "         -8.  ,  -7.75,  -7.5 ,  -7.25,  -7.  ,  -6.75,  -6.5 ,  -6.25,\n",
       "         -6.  ,  -5.75,  -5.5 ,  -5.25,  -5.  ,  -4.75,  -4.5 ,  -4.25,\n",
       "         -4.  ,  -3.75,  -3.5 ,  -3.25,  -3.  ,  -2.75,  -2.5 ,  -2.25,\n",
       "         -2.  ,  -1.75,  -1.5 ,  -1.25,  -1.  ,  -0.75,  -0.5 ,  -0.25,\n",
       "          0.  ,   0.25,   0.5 ,   0.75,   1.  ,   1.25,   1.5 ,   1.75,\n",
       "          2.  ,   2.25,   2.5 ,   2.75,   3.  ,   3.25,   3.5 ,   3.75,\n",
       "          4.  ,   4.25,   4.5 ,   4.75,   5.  ,   5.25,   5.5 ,   5.75,\n",
       "          6.  ,   6.25,   6.5 ,   6.75,   7.  ,   7.25,   7.5 ,   7.75,\n",
       "          8.  ,   8.25,   8.5 ,   8.75,   9.  ,   9.25,   9.5 ,   9.75,\n",
       "         10.  ,  10.25,  10.5 ,  10.75,  11.  ,  11.25,  11.5 ,  11.75,\n",
       "         12.  ,  12.25,  12.5 ,  12.75,  13.  ,  13.25,  13.5 ,  13.75,\n",
       "         14.  ,  14.25,  14.5 ,  14.75,  15.  ,  15.25,  15.5 ,  15.75,\n",
       "         16.  ,  16.25,  16.5 ,  16.75,  17.  ]))"
      ]
     },
     "execution_count": 5,
     "metadata": {},
     "output_type": "execute_result"
    }
   ],
   "source": [
    "def calc_bin_counts(e, m, s=1 / 4, fn=False):\n",
    "    low = 2 - 2 ** (e - 1) - m\n",
    "    high = 2 ** (e - 1) + int(fn)\n",
    "    bins = np.arange(low, high + s, s)\n",
    "    counts = np.array(\n",
    "        [round(2 ** (0 + i * s) * (2**s - 1)) * 2 for i in range(0, int(m / s))]\n",
    "        + [round(2 ** (m + i * s) * (2**s - 1)) * 2 for i in range(0, int(1 / s))]\n",
    "        * (2**e - 1 - int(not fn)),\n",
    "    )\n",
    "    if fn:\n",
    "        counts[-1] -= 2\n",
    "    return counts, bins\n",
    "\n",
    "\n",
    "calc_bin_counts(5, 10, fn=True)"
   ]
  },
  {
   "cell_type": "code",
   "execution_count": 69,
   "metadata": {},
   "outputs": [
    {
     "name": "stdout",
     "output_type": "stream",
     "text": [
      "Float64 value: 1.681792830507429\n",
      "Mantissa bits: 1010111010001001111110011001010110101101001110101101\n"
     ]
    }
   ],
   "source": [
    "import numpy as np\n",
    "\n",
    "y = np.float64(2**0.75)\n",
    "int_view_64 = y.view(np.int64)\n",
    "\n",
    "# Mantissa mask for float64 (52 bits)\n",
    "mantissa_mask_64 = 0x000FFFFFFFFFFFFF  # binary: last 52 bits set\n",
    "mantissa_bits_64 = int_view_64 & mantissa_mask_64\n",
    "\n",
    "# Convert to a 52-bit binary string\n",
    "mantissa_str_64 = np.binary_repr(mantissa_bits_64, width=52)\n",
    "print(\"Float64 value:\", y)\n",
    "print(\"Mantissa bits:\", mantissa_str_64)\n"
   ]
  },
  {
   "cell_type": "code",
   "execution_count": null,
   "metadata": {},
   "outputs": [
    {
     "data": {
      "text/plain": [
       "array([388, 462, 548, 650])"
      ]
     },
     "execution_count": 230,
     "metadata": {},
     "output_type": "execute_result"
    }
   ],
   "source": [
    "# def hist_heights(m, bins=4):\n",
    "#     xs = 2 ** (np.arange(bins, dtype=np.float64) / bins)\n",
    "#     xs = xs.view(np.int64)\n",
    "#     rounding_offset = 2 ** (52 - m) - 1\n",
    "#     top_k_mantissa_bit_mask = 2**52 - 2 ** (52 - m)\n",
    "#     xs += rounding_offset\n",
    "#     xs &= top_k_mantissa_bit_mask\n",
    "#     xs >>= (52 - m)\n",
    "#     xs = np.append(xs, 2**m)\n",
    "#     xs = xs[1:] - xs[:-1]\n",
    "#     xs *= 2\n",
    "#     return xs\n",
    "\n",
    "# hist_heights(10)"
   ]
  },
  {
   "cell_type": "code",
   "execution_count": null,
   "metadata": {},
   "outputs": [
    {
     "ename": "NameError",
     "evalue": "name 'np' is not defined",
     "output_type": "error",
     "traceback": [
      "\u001b[0;31m---------------------------------------------------------------------------\u001b[0m",
      "\u001b[0;31mNameError\u001b[0m                                 Traceback (most recent call last)",
      "Cell \u001b[0;32mIn[1], line 23\u001b[0m\n\u001b[1;32m     19\u001b[0m     bin_exps \u001b[38;5;241m=\u001b[39m np\u001b[38;5;241m.\u001b[39marange(bins \u001b[38;5;241m*\u001b[39m min_sub_exp, bins \u001b[38;5;241m*\u001b[39m max_exp \u001b[38;5;241m+\u001b[39m \u001b[38;5;241m1\u001b[39m) \u001b[38;5;241m/\u001b[39m bins\n\u001b[1;32m     20\u001b[0m     \u001b[38;5;28;01mreturn\u001b[39;00m counts, bin_exps\n\u001b[0;32m---> 23\u001b[0m \u001b[43mnp\u001b[49m\u001b[38;5;241m.\u001b[39mset_printoptions(threshold\u001b[38;5;241m=\u001b[39m\u001b[38;5;28mfloat\u001b[39m(\u001b[38;5;124m\"\u001b[39m\u001b[38;5;124minf\u001b[39m\u001b[38;5;124m\"\u001b[39m))\n\u001b[1;32m     24\u001b[0m c, b \u001b[38;5;241m=\u001b[39m hist(\u001b[38;5;241m11\u001b[39m, \u001b[38;5;241m52\u001b[39m, fn\u001b[38;5;241m=\u001b[39m\u001b[38;5;28;01mTrue\u001b[39;00m)\n\u001b[1;32m     25\u001b[0m c, b\n",
      "\u001b[0;31mNameError\u001b[0m: name 'np' is not defined"
     ]
    }
   ],
   "source": [
    "def hist(e, m, bins=4, fn=False):\n",
    "    # Recall: for FP64 e=11, m=52\n",
    "    min_normal_exp = 2 - 2 ** (11 - 1)\n",
    "    min_sub_exp = min_normal_exp - m\n",
    "    bin_exps = np.arange(bins * min_sub_exp, bins * (min_normal_exp + 1)) / bins\n",
    "    bin_edges = 2 ** bin_exps.astype(np.float64)\n",
    "    bin_bits = bin_edges.view(np.uint64)\n",
    "    bin_bits += 2 ** (52 - m) - 1  # rounding offset\n",
    "    bin_bits &= 2**64 - 2 ** (52 - m)  # top-k mantissa bit mask\n",
    "    bin_bits >>= 52 - m  # remove low masked bits\n",
    "    bin_bits = np.append(\n",
    "        bin_bits, np.uint64(2 ** (m + 1))\n",
    "    )  # add upper-bound for diff stage\n",
    "    counts = bin_bits[1:] - bin_bits[:-1]  # diff to get hist counts\n",
    "    counts *= 2  # double for sign bit\n",
    "    counts = np.append(counts[:-bins], np.tile(counts[-bins:], 2**e - 1 - int(not fn)))\n",
    "    if fn:\n",
    "        counts[np.nonzero(counts)[0][-1]] -= 2  # -2 from last non-zero bin\n",
    "    min_sub_exp = 2 - 2 ** (e - 1) - m\n",
    "    max_exp = 2 ** (e - 1) + int(fn)\n",
    "    bin_exps = np.arange(bins * min_sub_exp, bins * max_exp + 1) / bins\n",
    "    return counts, bin_exps\n",
    "\n",
    "\n",
    "np.set_printoptions(threshold=float(\"inf\"))\n",
    "c, b = hist(11, 52, fn=True)\n",
    "c, b"
   ]
  },
  {
   "cell_type": "code",
   "execution_count": null,
   "metadata": {},
   "outputs": [
    {
     "data": {
      "text/plain": [
       "(104, 183040)"
      ]
     },
     "execution_count": 605,
     "metadata": {},
     "output_type": "execute_result"
    }
   ],
   "source": [
    "steps = 0\n",
    "hist_bytes = 0\n",
    "for m in range(1, 52 + 1):\n",
    "    for fn in [True, False]:\n",
    "        steps += 1\n",
    "        c, b = hist(0, m, fn=fn)\n",
    "        hist_bytes += (len(c) + len(b)) * 8\n",
    "steps, hist_bytes"
   ]
  },
  {
   "cell_type": "code",
   "execution_count": 571,
   "metadata": {},
   "outputs": [],
   "source": [
    "def test_dtype(dtype, e, m, log_bin_width=1 / 4, fn=False):\n",
    "    calc_counts, calc_bins = hist(e, m, bins=int(1 / log_bin_width), fn=fn)\n",
    "    actu_counts, actu_bins = dtype_log_hist(dtype, log_bin_width=log_bin_width)\n",
    "    assert (calc_counts == actu_counts).all(), (calc_counts, actu_counts)\n",
    "    assert (calc_bins == actu_bins).all(), (calc_bins, actu_bins)\n",
    "    print(\"success:\", dtype)"
   ]
  },
  {
   "cell_type": "code",
   "execution_count": 572,
   "metadata": {},
   "outputs": [
    {
     "name": "stdout",
     "output_type": "stream",
     "text": [
      "success: <class 'numpy.float16'>\n"
     ]
    },
    {
     "name": "stderr",
     "output_type": "stream",
     "text": [
      "/var/folders/l1/50_0wv7s3c9cm7vn8f1b_dbw0000gq/T/ipykernel_8081/2166630582.py:17: RuntimeWarning: divide by zero encountered in log2\n",
      "  log_a = np.log2(np.abs(a))\n"
     ]
    }
   ],
   "source": [
    "test_dtype(float16, 5, 10)"
   ]
  },
  {
   "cell_type": "code",
   "execution_count": 573,
   "metadata": {},
   "outputs": [
    {
     "name": "stdout",
     "output_type": "stream",
     "text": [
      "success: <class 'ml_dtypes.bfloat16'>\n"
     ]
    },
    {
     "name": "stderr",
     "output_type": "stream",
     "text": [
      "/var/folders/l1/50_0wv7s3c9cm7vn8f1b_dbw0000gq/T/ipykernel_8081/2166630582.py:17: RuntimeWarning: divide by zero encountered in log2\n",
      "  log_a = np.log2(np.abs(a))\n"
     ]
    }
   ],
   "source": [
    "test_dtype(bfloat16, 8, 7)"
   ]
  },
  {
   "cell_type": "code",
   "execution_count": 574,
   "metadata": {},
   "outputs": [
    {
     "name": "stdout",
     "output_type": "stream",
     "text": [
      "success: <class 'ml_dtypes.float8_e5m2'>\n"
     ]
    },
    {
     "name": "stderr",
     "output_type": "stream",
     "text": [
      "/var/folders/l1/50_0wv7s3c9cm7vn8f1b_dbw0000gq/T/ipykernel_8081/2166630582.py:17: RuntimeWarning: divide by zero encountered in log2\n",
      "  log_a = np.log2(np.abs(a))\n"
     ]
    }
   ],
   "source": [
    "test_dtype(float8_e5m2, 5, 2)"
   ]
  },
  {
   "cell_type": "code",
   "execution_count": 575,
   "metadata": {},
   "outputs": [
    {
     "name": "stdout",
     "output_type": "stream",
     "text": [
      "success: <class 'ml_dtypes.float8_e4m3fn'>\n"
     ]
    },
    {
     "name": "stderr",
     "output_type": "stream",
     "text": [
      "/var/folders/l1/50_0wv7s3c9cm7vn8f1b_dbw0000gq/T/ipykernel_8081/2166630582.py:17: RuntimeWarning: divide by zero encountered in log2\n",
      "  log_a = np.log2(np.abs(a))\n"
     ]
    }
   ],
   "source": [
    "test_dtype(float8_e4m3fn, 4, 3, fn=True)"
   ]
  },
  {
   "cell_type": "code",
   "execution_count": null,
   "metadata": {},
   "outputs": [],
   "source": []
  },
  {
   "cell_type": "code",
   "execution_count": null,
   "metadata": {},
   "outputs": [],
   "source": []
  },
  {
   "cell_type": "code",
   "execution_count": null,
   "metadata": {},
   "outputs": [],
   "source": []
  },
  {
   "cell_type": "code",
   "execution_count": null,
   "metadata": {},
   "outputs": [],
   "source": []
  },
  {
   "cell_type": "code",
   "execution_count": null,
   "metadata": {},
   "outputs": [],
   "source": [
    "def gen_hist(e, m, log_bin_width=1 / 4, fn=False):\n",
    "    if e == 5 and m == 10 and not fn:\n",
    "        return dtype_log_hist(float16, log_bin_width=log_bin_width)\n",
    "    elif e == 8 and m == 7 and not fn:\n",
    "        return dtype_log_hist(bfloat16, log_bin_width=log_bin_width)\n",
    "    elif e == 5 and m == 2 and not fn:\n",
    "        return dtype_log_hist(float8_e5m2, log_bin_width=log_bin_width)\n",
    "    elif e == 4 and m == 3:\n",
    "        if fn:\n",
    "            return dtype_log_hist(float8_e4m3fn, log_bin_width=log_bin_width)\n",
    "        else:\n",
    "            return dtype_log_hist(float8_e4m3, log_bin_width=log_bin_width)\n",
    "    return calc_bin_counts(e, m, s=log_bin_width, fn=fn)"
   ]
  },
  {
   "cell_type": "code",
   "execution_count": null,
   "metadata": {},
   "outputs": [
    {
     "data": {
      "text/plain": [
       "(array([0, 0, 0, 0, 0, 0, 2, 2, 2, 2, 2, 2, 2, 2, 2, 2]),\n",
       " array([-2.  , -1.75, -1.5 , -1.25, -1.  , -0.75, -0.5 , -0.25,  0.  ,\n",
       "         0.25,  0.5 ,  0.75,  1.  ,  1.25,  1.5 ,  1.75,  2.  ]))"
      ]
     },
     "execution_count": 282,
     "metadata": {},
     "output_type": "execute_result"
    }
   ],
   "source": [
    "gen_hist(2, 2)"
   ]
  },
  {
   "cell_type": "code",
   "execution_count": null,
   "metadata": {},
   "outputs": [],
   "source": []
  }
 ],
 "metadata": {
  "kernelspec": {
   "display_name": ".omni_venv",
   "language": "python",
   "name": "python3"
  },
  "language_info": {
   "codemirror_mode": {
    "name": "ipython",
    "version": 3
   },
   "file_extension": ".py",
   "mimetype": "text/x-python",
   "name": "python",
   "nbconvert_exporter": "python",
   "pygments_lexer": "ipython3",
   "version": "3.11.9"
  }
 },
 "nbformat": 4,
 "nbformat_minor": 2
}
